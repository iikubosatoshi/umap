{
 "cells": [
  {
   "cell_type": "markdown",
   "id": "14b029fc",
   "metadata": {},
   "source": [
    "# PymatgenでのXRDピーク位置、強度の計算\n",
    "\n",
    "まずは、例によって、Fe3O4の構造を読み込んで、変数matに格納する。"
   ]
  },
  {
   "cell_type": "code",
   "execution_count": 4,
   "id": "76e68aea",
   "metadata": {},
   "outputs": [],
   "source": [
    "from pymatgen.io.cif import CifParser\n",
    "path = 'Fe3O4_mp-19306_symmetrized.cif'\n",
    "parser = CifParser(path)\n",
    "mat = parser.parse_structures(primitive=False, symmetrized=False)[0]"
   ]
  },
  {
   "cell_type": "code",
   "execution_count": 5,
   "id": "38f384b0",
   "metadata": {},
   "outputs": [],
   "source": [
    "from pymatgen.analysis.diffraction.xrd import XRDCalculator\n"
   ]
  },
  {
   "cell_type": "code",
   "execution_count": 29,
   "id": "9d904bc4",
   "metadata": {},
   "outputs": [],
   "source": [
    "xrd_cond = XRDCalculator(wavelength='CuKa', debye_waller_factors={'Fe':0.2, 'O':0.6})\n",
    "#xrd_cond = XRDCalculator(wavelength='CuKa')\n",
    "\n",
    "# 文字列で指定する場合は、他に ('CuKa', 'CuKa2', 'CuKa1', 'CuKb1', 'MoKa', 'MoKa2', 'MoKa1', 'MoKb1',\n",
    "# 'CrKa', 'CrKa2', 'CrKa1', 'CrKb1', 'FeKa', 'FeKa2', 'FeKa1', 'FeKb1', 'CoKa', 'CoKa2', 'CoKa1', 'CoKb1',\n",
    "# 'AgKa', 'AgKa2', 'AgKa1', 'AgKb1')が使える。\n",
    "\n",
    "# 小数で指定する場合は、例えば以下のようにする。\n",
    "# xrd_cond = XRDCalculator(wavelength=1.54056, debye_waller_factors={Element('Fe'):0.2, Element('O'):0.6})\n"
   ]
  },
  {
   "cell_type": "code",
   "execution_count": 30,
   "id": "b3de8169",
   "metadata": {},
   "outputs": [
    {
     "name": "stdout",
     "output_type": "stream",
     "text": [
      "<class 'pymatgen.analysis.diffraction.core.DiffractionPattern'>\n"
     ]
    }
   ],
   "source": [
    "xrd_calcd = xrd_cond.get_pattern(mat)\n",
    "print(type(xrd_calcd))\n",
    "# 出力：<class 'pymatgen.analysis.diffraction.core.DiffractionPattern'>"
   ]
  },
  {
   "cell_type": "code",
   "execution_count": 31,
   "id": "c1137806",
   "metadata": {},
   "outputs": [
    {
     "name": "stdout",
     "output_type": "stream",
     "text": [
      "dict_keys(['@module', '@class', '@version', 'x', 'y', 'hkls', 'd_hkls'])\n"
     ]
    }
   ],
   "source": [
    "dict_xrd_calcd = xrd_calcd.as_dict()\n",
    "print(dict_xrd_calcd.keys())\n",
    "# 出力：dict_keys(['@module', '@class', '@version', 'x', 'y', 'hkls', 'd_hkls'])\n"
   ]
  },
  {
   "cell_type": "code",
   "execution_count": 32,
   "id": "5d0383e1",
   "metadata": {},
   "outputs": [],
   "source": [
    "calcd_x = xrd_calcd.x\n",
    "calcd_y = xrd_calcd.y\n",
    "calcd_hkls = xrd_calcd.hkls\n",
    "calcd_d = xrd_calcd.d_hkls\n"
   ]
  },
  {
   "cell_type": "code",
   "execution_count": 33,
   "id": "912f3bda",
   "metadata": {},
   "outputs": [
    {
     "name": "stdout",
     "output_type": "stream",
     "text": [
      "18.19712340490444 8.751597852453825 [{'hkl': (1, 1, 1), 'multiplicity': 8}] 4.875128115815514\n"
     ]
    }
   ],
   "source": [
    "print(calcd_x[0], calcd_y[0], calcd_hkls[0], calcd_d[0])\n",
    "#出力：17.98985486665392 7.50841268512196 [{'hkl': (1, 1, 1), 'multiplicity': 8}] 4.926732808708708\n"
   ]
  },
  {
   "cell_type": "markdown",
   "id": "cc2c57c3",
   "metadata": {},
   "source": [
    "# Voigt関数の定義と計算"
   ]
  },
  {
   "cell_type": "code",
   "execution_count": 34,
   "id": "0721fb03",
   "metadata": {},
   "outputs": [],
   "source": [
    "import matplotlib.pyplot as plt\n",
    "import numpy as np\n",
    "import scipy as sp\n",
    "import scipy.special\n",
    "\n",
    "def voigt(xval,params):\n",
    "    norm,center,lw,gw = params\n",
    "    z = (xval - center + 1j*lw)/(gw * np.sqrt(2.0))\n",
    "    w = scipy.special.wofz(z)\n",
    "    model_y = norm * (w.real)/(gw * np.sqrt(2.0*np.pi))\n",
    "    return model_y\n"
   ]
  },
  {
   "cell_type": "code",
   "execution_count": 35,
   "id": "ffc47ae6",
   "metadata": {},
   "outputs": [
    {
     "data": {
      "text/plain": [
       "[<matplotlib.lines.Line2D at 0x3426f1d10>]"
      ]
     },
     "execution_count": 35,
     "metadata": {},
     "output_type": "execute_result"
    },
    {
     "data": {
      "image/png": "[encoded data removed]",
      "text/plain": [
       "<Figure size 640x480 with 1 Axes>"
      ]
     },
     "metadata": {},
     "output_type": "display_data"
    }
   ],
   "source": [
    "x = np.arange(10,60,0.02)\n",
    "params = [calcd_y[0], calcd_x[0], 0.02, 0.02]\n",
    "one_peak = voigt(x, params)\n",
    "\n",
    "plt.plot(x, one_peak)\n"
   ]
  },
  {
   "cell_type": "markdown",
   "id": "f8a978ce",
   "metadata": {},
   "source": [
    "# 粉末XRDパターンの計算"
   ]
  },
  {
   "cell_type": "code",
   "execution_count": 37,
   "id": "ac77d2bd",
   "metadata": {},
   "outputs": [
    {
     "data": {
      "text/plain": [
       "Text(0, 0.5, 'Intensity (a.u.)')"
      ]
     },
     "execution_count": 37,
     "metadata": {},
     "output_type": "execute_result"
    },
    {
     "data": {
      "image/png": "[encoded data removed]",
      "text/plain": [
       "<Figure size 500x300 with 1 Axes>"
      ]
     },
     "metadata": {},
     "output_type": "display_data"
    }
   ],
   "source": [
    "calcd_pattern = np.zeros(len(x))\n",
    "\n",
    "N = len(calcd_x)\n",
    "for i in range(N):\n",
    "    norm = calcd_y[i]\n",
    "    center = calcd_x[i]\n",
    "    lw = 0.05\n",
    "    gw = 0.05\n",
    "    params = [norm, center, lw, gw]\n",
    "    calcd_pattern += voigt(x, params)\n",
    "\n",
    "figure = plt.figure(figsize=(5,3))\n",
    "ax = figure.add_subplot(111)\n",
    "\n",
    "ax.plot(x, calcd_pattern,color='0')\n",
    "\n",
    "ax.set_xlim(10, 60)\n",
    "ax.set_ylim(0, 500)\n",
    "\n",
    "ax.set_xlabel(r'2$\\theta$')\n",
    "ax.set_ylabel('Intensity (a.u.)')\n"
   ]
  },
  {
   "cell_type": "code",
   "execution_count": null,
   "id": "c143e476",
   "metadata": {},
   "outputs": [],
   "source": []
  },
  {
   "cell_type": "code",
   "execution_count": null,
   "id": "4cd71de2",
   "metadata": {},
   "outputs": [],
   "source": []
  }
 ],
 "metadata": {
  "kernelspec": {
   "display_name": "Python 3 (ipykernel)",
   "language": "python",
   "name": "python3"
  },
  "language_info": {
   "codemirror_mode": {
    "name": "ipython",
    "version": 3
   },
   "file_extension": ".py",
   "mimetype": "text/x-python",
   "name": "python",
   "nbconvert_exporter": "python",
   "pygments_lexer": "ipython3",
   "version": "3.11.13"
  }
 },
 "nbformat": 4,
 "nbformat_minor": 5
}
